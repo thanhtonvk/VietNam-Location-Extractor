{
 "cells": [
  {
   "cell_type": "code",
   "execution_count": 1,
   "metadata": {},
   "outputs": [
    {
     "name": "stderr",
     "output_type": "stream",
     "text": [
      "c:\\Users\\thanh\\anaconda3\\lib\\site-packages\\fuzzywuzzy\\fuzz.py:11: UserWarning: Using slow pure-python SequenceMatcher. Install python-Levenshtein to remove this warning\n",
      "  warnings.warn('Using slow pure-python SequenceMatcher. Install python-Levenshtein to remove this warning')\n"
     ]
    }
   ],
   "source": [
    "from cleanText import text_clean, clearColumns\n",
    "from inputData import textTransfer\n",
    "from standardAddress import addressList, matchAddress, loadAddressList, checkValidAddressElement\n",
    "from validAddress import ValidAddress\n",
    "\n",
    "matchAddress = ValidAddress()\n",
    "\n",
    "provinceName = \"./data/provinceLib.csv\"\n",
    "\n",
    "standardAddressList = [text_clean(item) for item in addressList(provinceName)]\n",
    "listAddress = loadAddressList(provinceName)\n",
    "\n",
    "# replace the fail characteristic and the unexpected location words\n",
    "def replaceCharList(text):\n",
    "    replaceList = [\".,\", \"-,\", \",,\",\"--\",\".-\",\"VIET NAM\",\"VN\", \"VIETNAM\",\",VIET NAM\",\",VN\", \",VIETNAM\",\", VIET NAM\",\", VN\", \", VIETNAM\"]\n",
    "    textResults = text_clean(text)\n",
    "    for item in replaceList:\n",
    "        textResults = textResults.replace(item,\" \")\n",
    "    return textResults\n",
    "    \n",
    "def parseAddress(item):\n",
    "    if (item.find(',') != -1):\n",
    "        textList = item.split(\",\")\n",
    "    elif (item.find(\"-\") != -1):\n",
    "        textList = item.split(\"-\")\n",
    "    else:\n",
    "        textList = [0]\n",
    "    extractList = [\"0\",\"0\",\"0\"]\n",
    "    lenList = len(textList)\n",
    "    if lenList < 3:\n",
    "        missedItem = textTransfer(item)\n",
    "        missedCharList = [\",,\", ', ,', '-']\n",
    "        for char in missedCharList:\n",
    "            missedItem = missedItem.replace(char, \",\")\n",
    "        missedTextList = missedItem.split(\",\")\n",
    "        lenListTemp = len(missedTextList)\n",
    "        if lenListTemp < 3:\n",
    "            extractList = [\"0\", \"0\", \"0\"]\n",
    "        else:\n",
    "            extractList = [missedTextList[lenListTemp-1],\n",
    "                            missedTextList[lenListTemp-2], missedTextList[lenListTemp-3]]\n",
    "    else:\n",
    "        extractList = [textList[lenList-1],\n",
    "                        textList[lenList-2], textList[lenList-3]]\n",
    "\n",
    "    \n",
    "    extractList = checkValidAddressElement(extractList,listAddress)    \n",
    "    return clearColumns(extractList[2]) + \", \"+ clearColumns(extractList[1]) + \", \" + clearColumns(extractList[0])\n",
    "       \n",
    "def AddressParsing(testAddress):\n",
    "    testAddress = testAddress\n",
    "    results = replaceCharList(testAddress)\n",
    "    results = parseAddress(results)\n",
    "    result = matchAddress.valid_address(results)\n",
    "    return result"
   ]
  },
  {
   "cell_type": "code",
   "execution_count": 3,
   "metadata": {},
   "outputs": [
    {
     "name": "stdout",
     "output_type": "stream",
     "text": [
      "{'province': 'HUNG YEN', 'district': 'VAN GIANG', 'ward': None}\n"
     ]
    }
   ],
   "source": [
    "testAddress  = \"đội 13, tân dân, văn giang, hưng yên\"\n",
    "print(AddressParsing(testAddress))"
   ]
  }
 ],
 "metadata": {
  "kernelspec": {
   "display_name": "base",
   "language": "python",
   "name": "python3"
  },
  "language_info": {
   "codemirror_mode": {
    "name": "ipython",
    "version": 3
   },
   "file_extension": ".py",
   "mimetype": "text/x-python",
   "name": "python",
   "nbconvert_exporter": "python",
   "pygments_lexer": "ipython3",
   "version": "3.9.13"
  },
  "orig_nbformat": 4
 },
 "nbformat": 4,
 "nbformat_minor": 2
}
