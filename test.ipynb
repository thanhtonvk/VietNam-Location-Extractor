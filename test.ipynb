{
 "cells": [
  {
   "cell_type": "code",
   "execution_count": 8,
   "metadata": {},
   "outputs": [],
   "source": [
    "def exception_vung_tau(list_text):\n",
    "    if 'BA RIA' in list_text and \"VUNG TAU\" in list_text:\n",
    "        list_text.reverse()\n",
    "        index_vung_tau = list_text.index('VUNG TAU')\n",
    "        index_ba_ria = list_text.index('BA RIA')\n",
    "        if index_vung_tau<index_ba_ria:       \n",
    "            list_text.remove('BA RIA')\n",
    "            list_text.remove('VUNG TAU')\n",
    "            list_text.insert(0,'BA RIA VUNG TAU')\n",
    "        list_text.reverse()\n",
    "    return list_text\n",
    "    \n",
    "def exception_ha_noi(list_text):\n",
    "    if list_text.count('HA NOI')>1:\n",
    "        list_text.remove('HA NOI')\n",
    "    return list_text\n",
    "    "
   ]
  },
  {
   "cell_type": "code",
   "execution_count": 9,
   "metadata": {},
   "outputs": [],
   "source": [
    "from cleanText import text_clean, clearColumns\n",
    "from inputData import textTransfer\n",
    "from standardAddress import addressList, loadAddressList, normalizeAddress\n",
    "from validAddress import ValidAddress\n",
    "import pandas as pd\n",
    "matchAddress = ValidAddress()\n",
    "\n",
    "provinceName = \"./data/provinceLib.csv\"\n",
    "\n",
    "standardAddressList = [text_clean(item) for item in addressList(provinceName)]\n",
    "listAddress = loadAddressList(provinceName)\n",
    "\n",
    "# replace the fail characteristic and the unexpected location words\n",
    "def replaceCharList(text):\n",
    "    replaceList = [\".,\", \"-,\", \",,\",\"--\",\".-\",'-CU-','-VIET NAM NINH','VIET NAM NINH','-VIET NAM CAI','VIET NAM CAI',\"-VIET NAM NOI\",\"VIET NAM NOI\",\"-VIET NAM DA\",\",VIET NAM\",\",VN\", \",VIETNAM\",\", VIET NAM\",\", VN\", \", VIETNAM\",'-VIETNAM','-VIET NAM',\"VIET NAM\",\"VN\", \"VIETNAM\",]\n",
    "    textResults = text_clean(text)\n",
    "    for item in replaceList:\n",
    "        textResults = textResults.replace(item,\" \")\n",
    "    return textResults\n",
    "    \n",
    "def parseAddress(item):\n",
    "    if (item.find(',') != -1):\n",
    "        textList = item.split(\",\")\n",
    "    elif (item.find(\"-\") != -1):\n",
    "        textList = item.split(\"-\")\n",
    "    else:\n",
    "        textList = [0]\n",
    "    if textList[0] ==0 and len(textList)==1:\n",
    "        textList = [0]\n",
    "    else:\n",
    "        textList = [clearColumns(value.strip()) for value in textList if clearColumns(value.strip()) != '']\n",
    "    textList = exception_vung_tau(textList)\n",
    "    textList= exception_ha_noi(textList)\n",
    "    extractList = [\"0\",\"0\",\"0\"]\n",
    "    lenList = len(textList)\n",
    "    \n",
    "    missedTextList = None\n",
    "    if lenList < 3:\n",
    "        missedItem = textTransfer(item)\n",
    "        missedCharList = [\",,\", ', ,', '-']\n",
    "        for char in missedCharList:\n",
    "            missedItem = missedItem.replace(char, \",\")\n",
    "        \n",
    "        missedTextList = missedItem.split(\",\")\n",
    "        lenListTemp = len(missedTextList)\n",
    "        if lenListTemp < 3:\n",
    "            extractList = [\"0\", \"0\", \"0\"]\n",
    "        else:\n",
    "            extractList = [missedTextList[lenListTemp-1],\n",
    "                            missedTextList[lenListTemp-2], missedTextList[lenListTemp-3]]\n",
    "            for value in extractList:\n",
    "                missedTextList.remove(value)\n",
    "        extractList = normalizeAddress(extractList)\n",
    "        return ','.join(missedTextList), extractList[2] + \", \"+ extractList[1]+ \", \" + extractList[0]\n",
    "    else:\n",
    "        \n",
    "        extractList = [textList[lenList-1],\n",
    "                        textList[lenList-2], textList[lenList-3]]\n",
    "        for value in extractList:\n",
    "            textList.remove(value)\n",
    "        extractList = normalizeAddress(extractList)\n",
    "        return ','.join(textList), extractList[2] + \", \"+ extractList[1] + \", \" + extractList[0]\n",
    "        "
   ]
  },
  {
   "cell_type": "code",
   "execution_count": 10,
   "metadata": {},
   "outputs": [
    {
     "name": "stdout",
     "output_type": "stream",
     "text": [
      "BINH HOA 2 TAN PHUOC KHANH TAN UYEN BINH DUONG\n",
      "TAN UYEN , B, INH DUONG\n",
      "result  {'province': None, 'district': None, 'ward': None}\n",
      "other  INH ,HOA ,2 ,TAN PHUOC KHANH ,B\n"
     ]
    }
   ],
   "source": [
    "line = \"BINH HOA 2 TAN PHUOC KHANH TAN UYEN BINH DUONG\"\n",
    "address = line.strip()\n",
    "results = replaceCharList(line)\n",
    "print(results)\n",
    "# kiem tra\n",
    "other, results = parseAddress(results)\n",
    "result = matchAddress.valid_address(results)\n",
    "print(results)\n",
    "print('result ',result)\n",
    "print('other ',other)"
   ]
  },
  {
   "cell_type": "code",
   "execution_count": 11,
   "metadata": {},
   "outputs": [],
   "source": [
    "import pandas as pd"
   ]
  },
  {
   "cell_type": "code",
   "execution_count": 12,
   "metadata": {},
   "outputs": [],
   "source": [
    "def check_dia_chi(file_path,ouput_name):\n",
    "    list_full = []\n",
    "    list_other = []\n",
    "    addresses = []\n",
    "    df = pd.read_excel(file_path)\n",
    "    IDs = df['MAKH']\n",
    "    lines = df['DIACHI_BK']\n",
    "    for line in lines:\n",
    "        address = line.strip()\n",
    "        addresses.append(address)\n",
    "        \n",
    "        results = replaceCharList(line)\n",
    "        \n",
    "        # kiem tra\n",
    "        other, results = parseAddress(results)\n",
    "        result = matchAddress.valid_address(results)\n",
    "        if result['province'] is not None and result['district'] is not None and result['ward'] is not None:\n",
    "            list_full.append(True)\n",
    "        else:\n",
    "            list_full.append(False)\n",
    "        if len(other.strip())>0:\n",
    "            list_other.append(True)\n",
    "        else:\n",
    "            list_other.append(False)\n",
    "    df = pd.DataFrame(list(zip(IDs,addresses, list_full,list_other)),\n",
    "                columns =['MAKH','DIACHI_BK', 'Dia chi dung 3 cap do','Dia chi duoi cap xa'])\n",
    "    df.to_excel(ouput_name)"
   ]
  },
  {
   "cell_type": "code",
   "execution_count": 13,
   "metadata": {},
   "outputs": [],
   "source": [
    "file_path = 'datatest.xlsx'\n",
    "output = 'ketquadiachi.xlsx'\n",
    "check_dia_chi(file_path,output)"
   ]
  }
 ],
 "metadata": {
  "kernelspec": {
   "display_name": "base",
   "language": "python",
   "name": "python3"
  },
  "language_info": {
   "codemirror_mode": {
    "name": "ipython",
    "version": 3
   },
   "file_extension": ".py",
   "mimetype": "text/x-python",
   "name": "python",
   "nbconvert_exporter": "python",
   "pygments_lexer": "ipython3",
   "version": "3.10.9"
  },
  "orig_nbformat": 4
 },
 "nbformat": 4,
 "nbformat_minor": 2
}
