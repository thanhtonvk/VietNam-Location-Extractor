{
 "cells": [
  {
   "cell_type": "code",
   "execution_count": 106,
   "metadata": {},
   "outputs": [],
   "source": [
    "import pandas as pd"
   ]
  },
  {
   "cell_type": "code",
   "execution_count": 107,
   "metadata": {},
   "outputs": [],
   "source": [
    "df = pd.read_excel('crawl.xlsx',header=None)"
   ]
  },
  {
   "cell_type": "code",
   "execution_count": 108,
   "metadata": {},
   "outputs": [],
   "source": [
    "provinces = df[0]\n",
    "districts = df[1]\n",
    "wards = df[2]"
   ]
  },
  {
   "cell_type": "code",
   "execution_count": 109,
   "metadata": {},
   "outputs": [],
   "source": [
    "def check_level(text,levels):\n",
    "    for level in levels:\n",
    "        if level in text:\n",
    "            return level"
   ]
  },
  {
   "cell_type": "code",
   "execution_count": 110,
   "metadata": {},
   "outputs": [],
   "source": [
    "level_province = ['Tỉnh','Thành phố','Thành Phố']\n",
    "provinces_level = []\n",
    "for i,province in enumerate(provinces):\n",
    "    level = check_level(province,level_province)\n",
    "    provinces_level.append(level.title())\n",
    "    provinces[i] = province.replace(level,'').strip()"
   ]
  },
  {
   "cell_type": "code",
   "execution_count": 111,
   "metadata": {},
   "outputs": [],
   "source": [
    "level_district = ['Huyện','Quận','Thị xã','Thành Phố','Thành phố','Thị Xã']\n",
    "districts_level =[]\n",
    "for i,district in enumerate(districts):\n",
    "    level = check_level(district,level_district)\n",
    "    districts_level.append(level.title())\n",
    "    districts[i] = district.replace(level,'').strip()"
   ]
  },
  {
   "cell_type": "code",
   "execution_count": 112,
   "metadata": {},
   "outputs": [],
   "source": [
    "level_ward = ['Xã','Phường','Thị trấn','Thị Trấn']\n",
    "wards_level = []\n",
    "for i,ward in enumerate(wards):\n",
    "    ward = str(ward)\n",
    "    if ward=='nan':\n",
    "        wards_level.append('Xã')\n",
    "        wards[i] = ''\n",
    "    else:\n",
    "        \n",
    "        level = check_level(ward,level_ward)\n",
    "        wards_level.append(level.title())\n",
    "        wards[i] = ward.replace(level,'').strip()"
   ]
  },
  {
   "cell_type": "code",
   "execution_count": 121,
   "metadata": {},
   "outputs": [],
   "source": [
    "header = ['Tỉnh Thành Phố','Quận Huyện','Phường Xã','Cấp','district_level','province_level']\n",
    "address = pd.DataFrame(list(zip(provinces,districts,wards,wards_level,districts_level,provinces_level)),columns=header)"
   ]
  },
  {
   "cell_type": "code",
   "execution_count": 122,
   "metadata": {},
   "outputs": [],
   "source": [
    "address.to_csv('provinceLib.csv',index=False)"
   ]
  }
 ],
 "metadata": {
  "kernelspec": {
   "display_name": "base",
   "language": "python",
   "name": "python3"
  },
  "language_info": {
   "codemirror_mode": {
    "name": "ipython",
    "version": 3
   },
   "file_extension": ".py",
   "mimetype": "text/x-python",
   "name": "python",
   "nbconvert_exporter": "python",
   "pygments_lexer": "ipython3",
   "version": "3.10.9"
  },
  "orig_nbformat": 4
 },
 "nbformat": 4,
 "nbformat_minor": 2
}
